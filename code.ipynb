{
 "cells": [
  {
   "attachments": {},
   "cell_type": "markdown",
   "metadata": {},
   "source": [
    "# Naive Bayse"
   ]
  },
  {
   "attachments": {},
   "cell_type": "markdown",
   "metadata": {},
   "source": [
    "## 1.preprocess"
   ]
  },
  {
   "cell_type": "code",
   "execution_count": 621,
   "metadata": {},
   "outputs": [],
   "source": [
    "import pickle\n",
    "pkl_label = open('./Datasets/label.pkl', 'rb')\n",
    "pkl_data = open('./Datasets/data.pkl', 'rb')\n",
    "data = pickle.load(pkl_data)\n",
    "label = pickle.load(pkl_label)"
   ]
  },
  {
   "attachments": {},
   "cell_type": "markdown",
   "metadata": {},
   "source": [
    "### 1\n",
    "There is no one-size-fits-all answer to this question, as the optimal ratio may vary depending on the size of the dataset, the complexity of the problem, and the distribution of the data but usually we use somethis between 0.2 and 0.3."
   ]
  },
  {
   "cell_type": "code",
   "execution_count": 622,
   "metadata": {},
   "outputs": [
    {
     "data": {
      "text/plain": [
       "(420,)"
      ]
     },
     "execution_count": 622,
     "metadata": {},
     "output_type": "execute_result"
    }
   ],
   "source": [
    "from sklearn.model_selection import train_test_split\n",
    "import numpy as np\n",
    "import pandas as pd\n",
    "label = np.array(label)\n",
    "X_train, X_test, y_train, y_test = train_test_split(data, label, test_size=0.25)\n",
    "# data[1].reshape()\n",
    "data[1].reshape(420).shape"
   ]
  },
  {
   "attachments": {},
   "cell_type": "markdown",
   "metadata": {},
   "source": [
    "### 2"
   ]
  },
  {
   "cell_type": "code",
   "execution_count": 623,
   "metadata": {},
   "outputs": [
    {
     "data": {
      "image/png": "[encoded data removed]",
      "text/plain": [
       "<Figure size 432x288 with 1 Axes>"
      ]
     },
     "metadata": {
      "needs_background": "light"
     },
     "output_type": "display_data"
    },
    {
     "name": "stdout",
     "output_type": "stream",
     "text": [
      "pixel values are between 0 and 255.\n"
     ]
    }
   ],
   "source": [
    "import matplotlib.pyplot as plt\n",
    "import random\n",
    "\n",
    "rnd_img = random.choice(X_train)\n",
    "plt.imshow(rnd_img, cmap='gray')\n",
    "plt.show()\n",
    "print(f'pixel values are between {np.min(rnd_img)} and {np.max(rnd_img)}.')"
   ]
  },
  {
   "attachments": {},
   "cell_type": "markdown",
   "metadata": {},
   "source": [
    "### 3\n",
    "It's better that all images have the same size because we want to calculate p(f|c) and we want all images to be in the same state. also reducing the size of images is computationally good."
   ]
  },
  {
   "cell_type": "code",
   "execution_count": 624,
   "metadata": {},
   "outputs": [
    {
     "data": {
      "image/png": "[encoded data removed]",
      "text/plain": [
       "<Figure size 432x288 with 1 Axes>"
      ]
     },
     "metadata": {
      "needs_background": "light"
     },
     "output_type": "display_data"
    }
   ],
   "source": [
    "import cv2\n",
    "\n",
    "reshape_list = lambda ls : [cv2.resize(li, (20, 20)) for li in ls]\n",
    "X_train, X_test = reshape_list(X_train), reshape_list(X_test)\n",
    "rnd_img = random.choice(X_train)\n",
    "plt.imshow(rnd_img, cmap='gray')\n",
    "plt.show()"
   ]
  },
  {
   "attachments": {},
   "cell_type": "markdown",
   "metadata": {},
   "source": [
    "### 4"
   ]
  },
  {
   "cell_type": "code",
   "execution_count": 625,
   "metadata": {},
   "outputs": [
    {
     "data": {
      "image/png": "[encoded data removed]",
      "text/plain": [
       "<Figure size 1440x144 with 10 Axes>"
      ]
     },
     "metadata": {
      "needs_background": "light"
     },
     "output_type": "display_data"
    }
   ],
   "source": [
    "num_classes = 10\n",
    "fig, axs = plt.subplots(1, num_classes, figsize=(20, 2))\n",
    "\n",
    "for i in range(num_classes):\n",
    "    class_indices = np.where(np.array(y_train) == i)[0]\n",
    "    image_index = class_indices[0]\n",
    "    image = X_train[image_index]\n",
    "\n",
    "    axs[i].imshow(image, cmap='gray')\n",
    "    axs[i].axis('off')\n",
    "    axs[i].set_title(f'Class {i}')"
   ]
  },
  {
   "attachments": {},
   "cell_type": "markdown",
   "metadata": {},
   "source": [
    "### 5"
   ]
  },
  {
   "cell_type": "code",
   "execution_count": 626,
   "metadata": {},
   "outputs": [
    {
     "data": {
      "text/plain": [
       "(array([146., 164., 135., 145., 156., 134., 155., 157., 149., 159.]),\n",
       " array([0. , 0.9, 1.8, 2.7, 3.6, 4.5, 5.4, 6.3, 7.2, 8.1, 9. ]),\n",
       " <BarContainer object of 10 artists>)"
      ]
     },
     "execution_count": 626,
     "metadata": {},
     "output_type": "execute_result"
    },
    {
     "data": {
      "image/png": "[encoded data removed]",
      "text/plain": [
       "<Figure size 432x288 with 1 Axes>"
      ]
     },
     "metadata": {
      "needs_background": "light"
     },
     "output_type": "display_data"
    }
   ],
   "source": [
    "plt.hist(y_train, bins=10)\n",
    "plt.hist(y_test, bins=10)\n"
   ]
  },
  {
   "cell_type": "code",
   "execution_count": 627,
   "metadata": {},
   "outputs": [
    {
     "name": "stdout",
     "output_type": "stream",
     "text": [
      "train: \n"
     ]
    },
    {
     "data": {
      "text/plain": [
       "5    466\n",
       "2    465\n",
       "3    455\n",
       "0    454\n",
       "8    451\n",
       "6    445\n",
       "4    444\n",
       "7    443\n",
       "9    441\n",
       "1    436\n",
       "dtype: int64"
      ]
     },
     "execution_count": 627,
     "metadata": {},
     "output_type": "execute_result"
    }
   ],
   "source": [
    "import pandas as pd\n",
    "print('train: ')\n",
    "pd.value_counts(y_train)"
   ]
  },
  {
   "cell_type": "code",
   "execution_count": 628,
   "metadata": {},
   "outputs": [
    {
     "name": "stdout",
     "output_type": "stream",
     "text": [
      "test: \n"
     ]
    },
    {
     "data": {
      "text/plain": [
       "1    164\n",
       "9    159\n",
       "7    157\n",
       "4    156\n",
       "6    155\n",
       "8    149\n",
       "0    146\n",
       "3    145\n",
       "2    135\n",
       "5    134\n",
       "dtype: int64"
      ]
     },
     "execution_count": 628,
     "metadata": {},
     "output_type": "execute_result"
    }
   ],
   "source": [
    "print('test: ')\n",
    "pd.value_counts(y_test)"
   ]
  },
  {
   "attachments": {},
   "cell_type": "markdown",
   "metadata": {},
   "source": [
    "### 6\n",
    "If we compare the pixel values of two images directly without scaling them, we may get inaccurate or misleading results. For example, an image with pixel values ranging from 0 to 255 may appear darker than an image with pixel values ranging from 0 to 1, even if the images have the same content. It could also results instability."
   ]
  },
  {
   "cell_type": "code",
   "execution_count": 629,
   "metadata": {},
   "outputs": [],
   "source": [
    "normalizer = lambda imgs : [img / img.max() for img in imgs]\n",
    "X_train, X_test = normalizer(X_train), normalizer(X_test)"
   ]
  },
  {
   "attachments": {},
   "cell_type": "markdown",
   "metadata": {},
   "source": [
    "## 2.Problem Solving"
   ]
  },
  {
   "attachments": {},
   "cell_type": "markdown",
   "metadata": {},
   "source": [
    "### 7\n",
    "* p(c) or class prior is our prior information on this problem. we could calculate it by the frequency of that  class in the dataset.\n",
    "* likelihood is the probability of seeing this input if the class is c. we can consider different distributions for p(x|c).\n",
    "* p(x) is the probability of seeing x but it's not important in classification because we want to compare. so it's constant for all c.\n",
    "* posterior is our calculated probability after seeing data and we must compare these values together and choose the most one."
   ]
  },
  {
   "cell_type": "code",
   "execution_count": 630,
   "metadata": {},
   "outputs": [],
   "source": [
    "from abc import ABC, abstractmethod\n",
    "class _IBaseNB(ABC):\n",
    "    @abstractmethod\n",
    "    def _joint_log_likelihood(self, X):\n",
    "        pass\n",
    "    def predict(self, X):\n",
    "        # if is_fitted == False: \n",
    "        #     raise RuntimeError(\"you must fit first\")\n",
    "        jll = self._joint_log_likelihood(X)\n",
    "        return self.classes[np.argmax(jll, axis=1)]\n",
    "    \n",
    "class IGaussianNB(_IBaseNB):\n",
    "    def __init__(self, *, priors=None, var_smoothing=0):\n",
    "        self.priors = priors\n",
    "        self.var_smoothing = var_smoothing\n",
    "    def fit(self, X, y):\n",
    "        X = np.asarray(X)\n",
    "        y = np.asarray(y)\n",
    "        self.n_classes = len(np.unique(y))\n",
    "        self.n_features = X.shape[1]\n",
    "        self.means = np.zeros((self.n_classes, self.n_features))\n",
    "        self.vars = np.zeros((self.n_classes, self.n_features))\n",
    "        if self.priors == None:\n",
    "            self.priors = np.ones(self.n_classes) / self.n_classes\n",
    "        unique_y = np.unique(y)\n",
    "        self.classes = unique_y\n",
    "        for y_i in unique_y:\n",
    "            X_i = X[y == y_i]\n",
    "            self.means[y_i] = np.mean(X_i, axis=0) + self.var_smoothing\n",
    "            self.vars[y_i] = np.var(X_i, axis=0) + self.var_smoothing\n",
    "            self.priors[y_i] = (X_i.shape[0] + self.var_smoothing) / (X.shape[0] + self.var_smoothing * self.n_classes)\n",
    "    def _joint_log_likelihood(self, X):\n",
    "        joint_log_likelihood = []\n",
    "        X = np.asarray(X)\n",
    "        # print(X.shape)\n",
    "        # print(self.vars[1].shape)\n",
    "        for class_i in range(np.size(self.classes)):\n",
    "            prior_logs = np.log(self.priors[class_i])\n",
    "            liklihood_log = -0.5 * np.sum(np.log(2 * np.pi * (self.vars[class_i])))\n",
    "            liklihood_log -= np.sum((X - self.means[class_i]) ** 2 / (2 * (self.vars[class_i])), axis=1)\n",
    "            joint_log_likelihood.append(prior_logs + liklihood_log)\n",
    "        joint_log_likelihood = np.array(joint_log_likelihood).T\n",
    "        # print(joint_log_likelihood.shape)\n",
    "        return joint_log_likelihood\n",
    "class IBernoulliNB(_IBaseNB):\n",
    "    def __init__(self, *, priors=None, alpha=0):\n",
    "        self.priors = priors\n",
    "        self.alpha = alpha\n",
    "    def fit(self, X, y):\n",
    "        X = np.asarray(X)\n",
    "        y = np.asarray(y)\n",
    "        self.n_classes = len(np.unique(y))\n",
    "        self.n_features = X.shape[1]\n",
    "        self.p_x = np.zeros((self.n_classes, self.n_features))\n",
    "        if self.priors == None:\n",
    "            self.priors = np.ones(self.n_classes) / self.n_classes\n",
    "        unique_y = np.unique(y)\n",
    "        self.classes = unique_y\n",
    "        for y_i in unique_y:\n",
    "            X_i = X[y == y_i]\n",
    "            self.p_x[y_i] = (np.count_nonzero(X_i, axis=0) + self.alpha) / (X_i.shape[0] + self.alpha * self.n_classes)\n",
    "            self.priors[y_i] = (X_i.shape[0] + self.alpha) / (X.shape[0] + self.alpha * self.n_classes)\n",
    "    def _joint_log_likelihood(self, X):\n",
    "        joint_log_likelihood = []\n",
    "        X = np.asarray(X)\n",
    "        # print(X.shape)\n",
    "        # print(self.vars[1].shape)\n",
    "        for class_i in range(np.size(self.classes)):\n",
    "            prior_logs = np.log(self.priors[class_i])\n",
    "            liklihood_log = np.sum(X * np.log(self.p_x[class_i]) + (1 - X) * np.log(1 - self.p_x[class_i]), axis=1)\n",
    "            joint_log_likelihood.append(prior_logs + liklihood_log)\n",
    "        joint_log_likelihood = np.array(joint_log_likelihood).T\n",
    "        # print(joint_log_likelihood.shape)\n",
    "        return joint_log_likelihood"
   ]
  },
  {
   "attachments": {},
   "cell_type": "markdown",
   "metadata": {},
   "source": [
    "### 8\n",
    "Because we have the product of p(x|c_i) and when one of these terms is zero or inf all of the expression be zero or inf so we. Naive Bayes works with seeing data and updating its knowledge so when all of the train data says the same thing model behaves with that as an absolute fact."
   ]
  },
  {
   "attachments": {},
   "cell_type": "markdown",
   "metadata": {},
   "source": [
    "### 9\n",
    "For preventing a zero or inf in p(x|c) we add a small value to the variance in Gaussian Naive Bayes. for Berneuli Naive Base we consider an alpha and add it to the numerator of the fraction and number of classes multiplied by alpha to the denominator. so we won't have any inf or zero value."
   ]
  },
  {
   "attachments": {},
   "cell_type": "markdown",
   "metadata": {},
   "source": [
    "## 3.Metric"
   ]
  },
  {
   "attachments": {},
   "cell_type": "markdown",
   "metadata": {},
   "source": [
    "### 10\n",
    "Because they say different things. For example, if a binary classifier predicts 1 for all test data recall is 1 because all of class one predicted truly and if we apply so high threshold we get high precision but we can't say it's a good classifier."
   ]
  },
  {
   "attachments": {},
   "cell_type": "markdown",
   "metadata": {},
   "source": [
    "### 11\n",
    "f1 score is a type of harmonic mean. The harmonic mean is a type of average that is used to calculate the central tendency of a set of numbers and gives more weight to smaller values in the set than the arithmetic mean. f1 score balances precision and recall and if it's low, we can say the model works badly somewhere."
   ]
  },
  {
   "attachments": {},
   "cell_type": "markdown",
   "metadata": {},
   "source": [
    "### 12\n",
    "* Macro-averaging: In macro-averaging, the metrics are calculated independently for each class, and then the average is taken across all classes.\n",
    "* Micro-averaging: In micro-averaging, the metrics such as precision, recall, and F1 score are calculated globally by counting the total number of true positives, false positives, and false negatives across all classes. when each datapoint assigned to one class it's equall to accuracy.\n",
    "* Weighted-averaging: In weighted averaging, the metrics are calculated for each class independently, and then weighted by the number of instances in each class."
   ]
  },
  {
   "cell_type": "code",
   "execution_count": 631,
   "metadata": {},
   "outputs": [],
   "source": [
    "from sklearn import metrics\n",
    "def precision_score(y_true, y_pred):\n",
    "    classes = np.sort(np.unique(y_true))\n",
    "    y_true = np.asarray(y_true)\n",
    "    y_pred = np.asarray(y_pred)\n",
    "    precision_list = []\n",
    "    for class_i in classes:\n",
    "        class_mask = y_pred == class_i\n",
    "        precision_mask = y_pred[class_mask] == y_true[class_mask]\n",
    "        precision_list.append(np.round(np.mean(precision_mask), decimals=2))\n",
    "    precision_list = np.asarray(precision_list)\n",
    "    return precision_list\n",
    "\n",
    "def recall_score(y_true, y_pred):\n",
    "    classes = np.sort(np.unique(y_true))\n",
    "    y_true = np.asarray(y_true)\n",
    "    y_pred = np.asarray(y_pred)\n",
    "    recall_list = []\n",
    "    for class_i in classes:\n",
    "        class_mask = y_true == class_i\n",
    "        recall_mask = y_pred[class_mask] == y_true[class_mask]\n",
    "        recall_list.append(np.round(np.mean(recall_mask), decimals=2))\n",
    "    recall_list = np.asarray(recall_list)\n",
    "    return recall_list\n",
    "\n",
    "def f1_score(y_true, y_pred):\n",
    "    precision = precision_score(y_true, y_pred)\n",
    "    recall = recall_score(y_true, y_pred)\n",
    "    f1 = np.round(2 * precision * recall / (precision + recall), decimals=2)\n",
    "    return f1\n",
    "\n",
    "def accuracy_score(y_true, y_pred):\n",
    "    y_true = np.asarray(y_true)\n",
    "    y_pred = np.asarray(y_pred)\n",
    "    return np.mean(y_true == y_pred).round(3)\n",
    "\n",
    "def macro_avg(y_true, y_pred):\n",
    "    precision_macro = precision_score(y_true, y_pred).mean().round(2)\n",
    "    recall_macro = recall_score(y_true, y_pred).mean().round(2)\n",
    "    f1_macro = f1_score(y_true, y_pred).mean().round(2)\n",
    "    return precision_macro, recall_macro, f1_macro\n",
    "\n",
    "def calculate_class_weights(y_true):\n",
    "    y_true = np.asarray(y_true)\n",
    "    classes = np.sort(np.unique(y_true))\n",
    "    class_weights = []\n",
    "    for i in range(len(classes)):\n",
    "        class_weights.append(np.sum(y_true == classes[i]) / len(y_true))\n",
    "    return class_weights\n",
    "\n",
    "def weighted_avg(y_true, y_pred):\n",
    "    y_true = np.asarray(y_true)\n",
    "    y_pred = np.asarray(y_pred)\n",
    "    class_weights = calculate_class_weights(y_true)\n",
    "    precision_weighted = np.average(precision_score(y_true, y_pred), weights=class_weights).round(2)\n",
    "    recall_weighted = np.average(recall_score(y_true, y_pred), weights=class_weights).round(2)\n",
    "    f1_weighted = np.average(f1_score(y_true, y_pred), weights=class_weights).round(2)\n",
    "    return precision_weighted, recall_weighted, f1_weighted\n"
   ]
  },
  {
   "attachments": {},
   "cell_type": "markdown",
   "metadata": {},
   "source": [
    "### 13"
   ]
  },
  {
   "cell_type": "code",
   "execution_count": 632,
   "metadata": {},
   "outputs": [],
   "source": [
    "def report(y_test, y_pred):\n",
    "    test_dict = {}\n",
    "    print(f' accuracy of Gaussian smooth: {accuracy_score(y_test, y_pred)}.')\n",
    "    print(f' macro_avg of Gaussian smooth: {macro_avg(y_test, y_pred)}.')\n",
    "    print(f' weighted_avg of Gaussian smooth: {weighted_avg(y_test, y_pred)}.')\n",
    "    test_dict['precision'] = precision_score(y_test, y_pred)\n",
    "    test_dict['recall'] = recall_score(y_test, y_pred)\n",
    "    test_dict['f1'] = f1_score(y_test, y_pred)\n",
    "    test_df = pd.DataFrame(test_dict)\n",
    "    return test_df"
   ]
  },
  {
   "cell_type": "code",
   "execution_count": 633,
   "metadata": {},
   "outputs": [],
   "source": [
    "x, y = X_train[20].shape\n",
    "flatter = lambda X : [img.reshape(x * y) for img in X]\n",
    "X_train_flatted, X_test_flatted = flatter(X_train), flatter(X_test)"
   ]
  },
  {
   "cell_type": "code",
   "execution_count": 634,
   "metadata": {},
   "outputs": [
    {
     "name": "stdout",
     "output_type": "stream",
     "text": [
      " accuracy of Gaussian smooth: 0.09.\n",
      " macro_avg of Gaussian smooth: (nan, 0.1, nan).\n",
      " weighted_avg of Gaussian smooth: (nan, 0.09, nan).\n"
     ]
    },
    {
     "name": "stderr",
     "output_type": "stream",
     "text": [
      "/tmp/ipykernel_24080/4059364158.py:39: RuntimeWarning: divide by zero encountered in log\n",
      "  liklihood_log = -0.5 * np.sum(np.log(2 * np.pi * (self.vars[class_i])))\n",
      "/tmp/ipykernel_24080/4059364158.py:40: RuntimeWarning: divide by zero encountered in divide\n",
      "  liklihood_log -= np.sum((X - self.means[class_i]) ** 2 / (2 * (self.vars[class_i])), axis=1)\n",
      "/tmp/ipykernel_24080/4059364158.py:40: RuntimeWarning: invalid value encountered in divide\n",
      "  liklihood_log -= np.sum((X - self.means[class_i]) ** 2 / (2 * (self.vars[class_i])), axis=1)\n",
      "/tmp/ipykernel_24080/4059364158.py:40: RuntimeWarning: invalid value encountered in subtract\n",
      "  liklihood_log -= np.sum((X - self.means[class_i]) ** 2 / (2 * (self.vars[class_i])), axis=1)\n",
      "/home/aidin/code/queraDataScience/venv/lib/python3.10/site-packages/numpy/core/fromnumeric.py:3464: RuntimeWarning: Mean of empty slice.\n",
      "  return _methods._mean(a, axis=axis, dtype=dtype,\n",
      "/home/aidin/code/queraDataScience/venv/lib/python3.10/site-packages/numpy/core/_methods.py:192: RuntimeWarning: invalid value encountered in scalar divide\n",
      "  ret = ret.dtype.type(ret / rcount)\n"
     ]
    },
    {
     "data": {
      "text/html": [
       "<div>\n",
       "<style scoped>\n",
       "    .dataframe tbody tr th:only-of-type {\n",
       "        vertical-align: middle;\n",
       "    }\n",
       "\n",
       "    .dataframe tbody tr th {\n",
       "        vertical-align: top;\n",
       "    }\n",
       "\n",
       "    .dataframe thead th {\n",
       "        text-align: right;\n",
       "    }\n",
       "</style>\n",
       "<table border=\"1\" class=\"dataframe\">\n",
       "  <thead>\n",
       "    <tr style=\"text-align: right;\">\n",
       "      <th></th>\n",
       "      <th>precision</th>\n",
       "      <th>recall</th>\n",
       "      <th>f1</th>\n",
       "    </tr>\n",
       "  </thead>\n",
       "  <tbody>\n",
       "    <tr>\n",
       "      <th>0</th>\n",
       "      <td>NaN</td>\n",
       "      <td>0.0</td>\n",
       "      <td>NaN</td>\n",
       "    </tr>\n",
       "    <tr>\n",
       "      <th>1</th>\n",
       "      <td>NaN</td>\n",
       "      <td>0.0</td>\n",
       "      <td>NaN</td>\n",
       "    </tr>\n",
       "    <tr>\n",
       "      <th>2</th>\n",
       "      <td>0.09</td>\n",
       "      <td>1.0</td>\n",
       "      <td>0.17</td>\n",
       "    </tr>\n",
       "    <tr>\n",
       "      <th>3</th>\n",
       "      <td>NaN</td>\n",
       "      <td>0.0</td>\n",
       "      <td>NaN</td>\n",
       "    </tr>\n",
       "    <tr>\n",
       "      <th>4</th>\n",
       "      <td>NaN</td>\n",
       "      <td>0.0</td>\n",
       "      <td>NaN</td>\n",
       "    </tr>\n",
       "    <tr>\n",
       "      <th>5</th>\n",
       "      <td>NaN</td>\n",
       "      <td>0.0</td>\n",
       "      <td>NaN</td>\n",
       "    </tr>\n",
       "    <tr>\n",
       "      <th>6</th>\n",
       "      <td>NaN</td>\n",
       "      <td>0.0</td>\n",
       "      <td>NaN</td>\n",
       "    </tr>\n",
       "    <tr>\n",
       "      <th>7</th>\n",
       "      <td>NaN</td>\n",
       "      <td>0.0</td>\n",
       "      <td>NaN</td>\n",
       "    </tr>\n",
       "    <tr>\n",
       "      <th>8</th>\n",
       "      <td>NaN</td>\n",
       "      <td>0.0</td>\n",
       "      <td>NaN</td>\n",
       "    </tr>\n",
       "    <tr>\n",
       "      <th>9</th>\n",
       "      <td>NaN</td>\n",
       "      <td>0.0</td>\n",
       "      <td>NaN</td>\n",
       "    </tr>\n",
       "  </tbody>\n",
       "</table>\n",
       "</div>"
      ],
      "text/plain": [
       "   precision  recall    f1\n",
       "0        NaN     0.0   NaN\n",
       "1        NaN     0.0   NaN\n",
       "2       0.09     1.0  0.17\n",
       "3        NaN     0.0   NaN\n",
       "4        NaN     0.0   NaN\n",
       "5        NaN     0.0   NaN\n",
       "6        NaN     0.0   NaN\n",
       "7        NaN     0.0   NaN\n",
       "8        NaN     0.0   NaN\n",
       "9        NaN     0.0   NaN"
      ]
     },
     "execution_count": 634,
     "metadata": {},
     "output_type": "execute_result"
    }
   ],
   "source": [
    "\n",
    "gnb_non_smooth = IGaussianNB(var_smoothing=0)\n",
    "gnb_non_smooth.fit(X_train_flatted, y_train)\n",
    "y_pred = gnb_non_smooth.predict(X_test_flatted)\n",
    "test_df = report(y_test, y_pred)\n",
    "test_df"
   ]
  },
  {
   "cell_type": "code",
   "execution_count": 635,
   "metadata": {},
   "outputs": [
    {
     "name": "stdout",
     "output_type": "stream",
     "text": [
      " accuracy of Gaussian smooth: 0.886.\n",
      " macro_avg of Gaussian smooth: (0.89, 0.88, 0.88).\n",
      " weighted_avg of Gaussian smooth: (0.89, 0.89, 0.88).\n"
     ]
    },
    {
     "data": {
      "text/html": [
       "<div>\n",
       "<style scoped>\n",
       "    .dataframe tbody tr th:only-of-type {\n",
       "        vertical-align: middle;\n",
       "    }\n",
       "\n",
       "    .dataframe tbody tr th {\n",
       "        vertical-align: top;\n",
       "    }\n",
       "\n",
       "    .dataframe thead th {\n",
       "        text-align: right;\n",
       "    }\n",
       "</style>\n",
       "<table border=\"1\" class=\"dataframe\">\n",
       "  <thead>\n",
       "    <tr style=\"text-align: right;\">\n",
       "      <th></th>\n",
       "      <th>precision</th>\n",
       "      <th>recall</th>\n",
       "      <th>f1</th>\n",
       "    </tr>\n",
       "  </thead>\n",
       "  <tbody>\n",
       "    <tr>\n",
       "      <th>0</th>\n",
       "      <td>0.93</td>\n",
       "      <td>0.98</td>\n",
       "      <td>0.95</td>\n",
       "    </tr>\n",
       "    <tr>\n",
       "      <th>1</th>\n",
       "      <td>0.94</td>\n",
       "      <td>0.85</td>\n",
       "      <td>0.89</td>\n",
       "    </tr>\n",
       "    <tr>\n",
       "      <th>2</th>\n",
       "      <td>0.77</td>\n",
       "      <td>0.68</td>\n",
       "      <td>0.72</td>\n",
       "    </tr>\n",
       "    <tr>\n",
       "      <th>3</th>\n",
       "      <td>0.73</td>\n",
       "      <td>0.90</td>\n",
       "      <td>0.81</td>\n",
       "    </tr>\n",
       "    <tr>\n",
       "      <th>4</th>\n",
       "      <td>0.94</td>\n",
       "      <td>0.77</td>\n",
       "      <td>0.85</td>\n",
       "    </tr>\n",
       "    <tr>\n",
       "      <th>5</th>\n",
       "      <td>0.94</td>\n",
       "      <td>0.97</td>\n",
       "      <td>0.95</td>\n",
       "    </tr>\n",
       "    <tr>\n",
       "      <th>6</th>\n",
       "      <td>0.92</td>\n",
       "      <td>0.77</td>\n",
       "      <td>0.84</td>\n",
       "    </tr>\n",
       "    <tr>\n",
       "      <th>7</th>\n",
       "      <td>0.93</td>\n",
       "      <td>0.97</td>\n",
       "      <td>0.95</td>\n",
       "    </tr>\n",
       "    <tr>\n",
       "      <th>8</th>\n",
       "      <td>0.99</td>\n",
       "      <td>0.97</td>\n",
       "      <td>0.98</td>\n",
       "    </tr>\n",
       "    <tr>\n",
       "      <th>9</th>\n",
       "      <td>0.80</td>\n",
       "      <td>0.99</td>\n",
       "      <td>0.88</td>\n",
       "    </tr>\n",
       "  </tbody>\n",
       "</table>\n",
       "</div>"
      ],
      "text/plain": [
       "   precision  recall    f1\n",
       "0       0.93    0.98  0.95\n",
       "1       0.94    0.85  0.89\n",
       "2       0.77    0.68  0.72\n",
       "3       0.73    0.90  0.81\n",
       "4       0.94    0.77  0.85\n",
       "5       0.94    0.97  0.95\n",
       "6       0.92    0.77  0.84\n",
       "7       0.93    0.97  0.95\n",
       "8       0.99    0.97  0.98\n",
       "9       0.80    0.99  0.88"
      ]
     },
     "execution_count": 635,
     "metadata": {},
     "output_type": "execute_result"
    }
   ],
   "source": [
    "\n",
    "gnb_smooth = IGaussianNB(var_smoothing=1e-4)\n",
    "gnb_smooth.fit(X_train_flatted, y_train)\n",
    "y_pred = gnb_smooth.predict(X_test_flatted)\n",
    "test_df = report(y_test, y_pred)\n",
    "test_df\n",
    "\n",
    "# print(metrics.classification_report(y_test, y_pred))"
   ]
  },
  {
   "cell_type": "code",
   "execution_count": 636,
   "metadata": {},
   "outputs": [
    {
     "data": {
      "text/plain": [
       "<sklearn.metrics._plot.confusion_matrix.ConfusionMatrixDisplay at 0x7f9573b59b10>"
      ]
     },
     "execution_count": 636,
     "metadata": {},
     "output_type": "execute_result"
    },
    {
     "data": {
      "image/png": "[encoded data removed]",
      "text/plain": [
       "<Figure size 432x288 with 2 Axes>"
      ]
     },
     "metadata": {
      "needs_background": "light"
     },
     "output_type": "display_data"
    }
   ],
   "source": [
    "cm = metrics.confusion_matrix(y_test, y_pred)\n",
    "disp = metrics.ConfusionMatrixDisplay(cm)\n",
    "disp.plot()"
   ]
  },
  {
   "cell_type": "code",
   "execution_count": 637,
   "metadata": {},
   "outputs": [],
   "source": [
    "def bw(X, tresh=0.2):\n",
    "    tresh_mask = X > tresh\n",
    "    X[tresh_mask] = 1\n",
    "    X[~tresh_mask] = 0\n",
    "    return X\n",
    "bw_X_train, bw_X_test = bw(np.asarray(X_train_flatted)), bw(np.asarray(X_test_flatted))\n"
   ]
  },
  {
   "cell_type": "code",
   "execution_count": 638,
   "metadata": {},
   "outputs": [
    {
     "name": "stdout",
     "output_type": "stream",
     "text": [
      " accuracy of Gaussian smooth: 0.091.\n",
      " macro_avg of Gaussian smooth: (nan, 0.1, nan).\n",
      " weighted_avg of Gaussian smooth: (nan, 0.09, nan).\n"
     ]
    },
    {
     "name": "stderr",
     "output_type": "stream",
     "text": [
      "/tmp/ipykernel_24080/4059364158.py:70: RuntimeWarning: divide by zero encountered in log\n",
      "  liklihood_log = np.sum(X * np.log(self.p_x[class_i]) + (1 - X) * np.log(1 - self.p_x[class_i]), axis=1)\n",
      "/tmp/ipykernel_24080/4059364158.py:70: RuntimeWarning: invalid value encountered in multiply\n",
      "  liklihood_log = np.sum(X * np.log(self.p_x[class_i]) + (1 - X) * np.log(1 - self.p_x[class_i]), axis=1)\n",
      "/home/aidin/code/queraDataScience/venv/lib/python3.10/site-packages/numpy/core/fromnumeric.py:3464: RuntimeWarning: Mean of empty slice.\n",
      "  return _methods._mean(a, axis=axis, dtype=dtype,\n",
      "/home/aidin/code/queraDataScience/venv/lib/python3.10/site-packages/numpy/core/_methods.py:192: RuntimeWarning: invalid value encountered in scalar divide\n",
      "  ret = ret.dtype.type(ret / rcount)\n",
      "/tmp/ipykernel_24080/2727836611.py:29: RuntimeWarning: invalid value encountered in divide\n",
      "  f1 = np.round(2 * precision * recall / (precision + recall), decimals=2)\n"
     ]
    },
    {
     "data": {
      "text/html": [
       "<div>\n",
       "<style scoped>\n",
       "    .dataframe tbody tr th:only-of-type {\n",
       "        vertical-align: middle;\n",
       "    }\n",
       "\n",
       "    .dataframe tbody tr th {\n",
       "        vertical-align: top;\n",
       "    }\n",
       "\n",
       "    .dataframe thead th {\n",
       "        text-align: right;\n",
       "    }\n",
       "</style>\n",
       "<table border=\"1\" class=\"dataframe\">\n",
       "  <thead>\n",
       "    <tr style=\"text-align: right;\">\n",
       "      <th></th>\n",
       "      <th>precision</th>\n",
       "      <th>recall</th>\n",
       "      <th>f1</th>\n",
       "    </tr>\n",
       "  </thead>\n",
       "  <tbody>\n",
       "    <tr>\n",
       "      <th>0</th>\n",
       "      <td>NaN</td>\n",
       "      <td>0.00</td>\n",
       "      <td>NaN</td>\n",
       "    </tr>\n",
       "    <tr>\n",
       "      <th>1</th>\n",
       "      <td>NaN</td>\n",
       "      <td>0.00</td>\n",
       "      <td>NaN</td>\n",
       "    </tr>\n",
       "    <tr>\n",
       "      <th>2</th>\n",
       "      <td>0.10</td>\n",
       "      <td>1.00</td>\n",
       "      <td>0.18</td>\n",
       "    </tr>\n",
       "    <tr>\n",
       "      <th>3</th>\n",
       "      <td>0.00</td>\n",
       "      <td>0.00</td>\n",
       "      <td>NaN</td>\n",
       "    </tr>\n",
       "    <tr>\n",
       "      <th>4</th>\n",
       "      <td>0.00</td>\n",
       "      <td>0.00</td>\n",
       "      <td>NaN</td>\n",
       "    </tr>\n",
       "    <tr>\n",
       "      <th>5</th>\n",
       "      <td>NaN</td>\n",
       "      <td>0.00</td>\n",
       "      <td>NaN</td>\n",
       "    </tr>\n",
       "    <tr>\n",
       "      <th>6</th>\n",
       "      <td>0.06</td>\n",
       "      <td>0.01</td>\n",
       "      <td>0.02</td>\n",
       "    </tr>\n",
       "    <tr>\n",
       "      <th>7</th>\n",
       "      <td>0.00</td>\n",
       "      <td>0.00</td>\n",
       "      <td>NaN</td>\n",
       "    </tr>\n",
       "    <tr>\n",
       "      <th>8</th>\n",
       "      <td>NaN</td>\n",
       "      <td>0.00</td>\n",
       "      <td>NaN</td>\n",
       "    </tr>\n",
       "    <tr>\n",
       "      <th>9</th>\n",
       "      <td>NaN</td>\n",
       "      <td>0.00</td>\n",
       "      <td>NaN</td>\n",
       "    </tr>\n",
       "  </tbody>\n",
       "</table>\n",
       "</div>"
      ],
      "text/plain": [
       "   precision  recall    f1\n",
       "0        NaN    0.00   NaN\n",
       "1        NaN    0.00   NaN\n",
       "2       0.10    1.00  0.18\n",
       "3       0.00    0.00   NaN\n",
       "4       0.00    0.00   NaN\n",
       "5        NaN    0.00   NaN\n",
       "6       0.06    0.01  0.02\n",
       "7       0.00    0.00   NaN\n",
       "8        NaN    0.00   NaN\n",
       "9        NaN    0.00   NaN"
      ]
     },
     "execution_count": 638,
     "metadata": {},
     "output_type": "execute_result"
    }
   ],
   "source": [
    "\n",
    "bnb_non_smooth = IBernoulliNB(alpha=0)\n",
    "bnb_non_smooth.fit(bw_X_train, y_train)\n",
    "y_pred = bnb_non_smooth.predict(bw_X_test)\n",
    "test_df = report(y_test, y_pred)\n",
    "test_df"
   ]
  },
  {
   "cell_type": "code",
   "execution_count": 639,
   "metadata": {},
   "outputs": [
    {
     "name": "stdout",
     "output_type": "stream",
     "text": [
      " accuracy of Gaussian smooth: 0.9.\n",
      " macro_avg of Gaussian smooth: (0.9, 0.9, 0.9).\n",
      " weighted_avg of Gaussian smooth: (0.9, 0.9, 0.9).\n"
     ]
    },
    {
     "data": {
      "text/html": [
       "<div>\n",
       "<style scoped>\n",
       "    .dataframe tbody tr th:only-of-type {\n",
       "        vertical-align: middle;\n",
       "    }\n",
       "\n",
       "    .dataframe tbody tr th {\n",
       "        vertical-align: top;\n",
       "    }\n",
       "\n",
       "    .dataframe thead th {\n",
       "        text-align: right;\n",
       "    }\n",
       "</style>\n",
       "<table border=\"1\" class=\"dataframe\">\n",
       "  <thead>\n",
       "    <tr style=\"text-align: right;\">\n",
       "      <th></th>\n",
       "      <th>precision</th>\n",
       "      <th>recall</th>\n",
       "      <th>f1</th>\n",
       "    </tr>\n",
       "  </thead>\n",
       "  <tbody>\n",
       "    <tr>\n",
       "      <th>0</th>\n",
       "      <td>0.87</td>\n",
       "      <td>0.99</td>\n",
       "      <td>0.93</td>\n",
       "    </tr>\n",
       "    <tr>\n",
       "      <th>1</th>\n",
       "      <td>0.92</td>\n",
       "      <td>0.84</td>\n",
       "      <td>0.88</td>\n",
       "    </tr>\n",
       "    <tr>\n",
       "      <th>2</th>\n",
       "      <td>0.77</td>\n",
       "      <td>0.77</td>\n",
       "      <td>0.77</td>\n",
       "    </tr>\n",
       "    <tr>\n",
       "      <th>3</th>\n",
       "      <td>0.85</td>\n",
       "      <td>0.85</td>\n",
       "      <td>0.85</td>\n",
       "    </tr>\n",
       "    <tr>\n",
       "      <th>4</th>\n",
       "      <td>0.95</td>\n",
       "      <td>0.87</td>\n",
       "      <td>0.91</td>\n",
       "    </tr>\n",
       "    <tr>\n",
       "      <th>5</th>\n",
       "      <td>0.93</td>\n",
       "      <td>0.99</td>\n",
       "      <td>0.96</td>\n",
       "    </tr>\n",
       "    <tr>\n",
       "      <th>6</th>\n",
       "      <td>0.96</td>\n",
       "      <td>0.77</td>\n",
       "      <td>0.85</td>\n",
       "    </tr>\n",
       "    <tr>\n",
       "      <th>7</th>\n",
       "      <td>0.95</td>\n",
       "      <td>0.99</td>\n",
       "      <td>0.97</td>\n",
       "    </tr>\n",
       "    <tr>\n",
       "      <th>8</th>\n",
       "      <td>1.00</td>\n",
       "      <td>0.98</td>\n",
       "      <td>0.99</td>\n",
       "    </tr>\n",
       "    <tr>\n",
       "      <th>9</th>\n",
       "      <td>0.82</td>\n",
       "      <td>0.97</td>\n",
       "      <td>0.89</td>\n",
       "    </tr>\n",
       "  </tbody>\n",
       "</table>\n",
       "</div>"
      ],
      "text/plain": [
       "   precision  recall    f1\n",
       "0       0.87    0.99  0.93\n",
       "1       0.92    0.84  0.88\n",
       "2       0.77    0.77  0.77\n",
       "3       0.85    0.85  0.85\n",
       "4       0.95    0.87  0.91\n",
       "5       0.93    0.99  0.96\n",
       "6       0.96    0.77  0.85\n",
       "7       0.95    0.99  0.97\n",
       "8       1.00    0.98  0.99\n",
       "9       0.82    0.97  0.89"
      ]
     },
     "execution_count": 639,
     "metadata": {},
     "output_type": "execute_result"
    }
   ],
   "source": [
    "bnb_smooth = IBernoulliNB(alpha=0.1)\n",
    "bnb_smooth.fit(bw_X_train, y_train)\n",
    "y_pred = bnb_smooth.predict(bw_X_test)\n",
    "test_df = report(y_test, y_pred)\n",
    "test_df\n"
   ]
  },
  {
   "cell_type": "code",
   "execution_count": 640,
   "metadata": {},
   "outputs": [
    {
     "data": {
      "text/plain": [
       "<sklearn.metrics._plot.confusion_matrix.ConfusionMatrixDisplay at 0x7f95742b0b50>"
      ]
     },
     "execution_count": 640,
     "metadata": {},
     "output_type": "execute_result"
    },
    {
     "data": {
      "image/png": "[encoded data removed]",
      "text/plain": [
       "<Figure size 432x288 with 2 Axes>"
      ]
     },
     "metadata": {
      "needs_background": "light"
     },
     "output_type": "display_data"
    }
   ],
   "source": [
    "cm = metrics.confusion_matrix(y_test, y_pred)\n",
    "disp = metrics.ConfusionMatrixDisplay(cm)\n",
    "disp.plot()"
   ]
  },
  {
   "attachments": {},
   "cell_type": "markdown",
   "metadata": {},
   "source": [
    "### 14\n",
    "Without additive smoothing everything is awful. Gaussian model predict everything to one class and we can say its not classifier! second one is a little better but it's awful yet. BernoulliNB is a little better than GaussainNB. Also we see that some classes are so accurate like 0, 8, 5 and 9 but some like 2 and 6 has more error. accuracy, precision and recall also macro_avg and weighted_avg are in same order so our classifier is balanced."
   ]
  },
  {
   "attachments": {},
   "cell_type": "markdown",
   "metadata": {},
   "source": [
    "### 15"
   ]
  },
  {
   "cell_type": "code",
   "execution_count": 641,
   "metadata": {},
   "outputs": [
    {
     "data": {
      "image/png": "[encoded data removed]",
      "text/plain": [
       "<Figure size 1512x216 with 5 Axes>"
      ]
     },
     "metadata": {
      "needs_background": "light"
     },
     "output_type": "display_data"
    }
   ],
   "source": [
    "n_mistakes = 5\n",
    "fig, axs = plt.subplots(1, n_mistakes, figsize=(21, 3))\n",
    "mistake_mask = y_test != y_pred\n",
    "class_indices = np.where(mistake_mask)[0]\n",
    "for i in range(n_mistakes):\n",
    "    image_index = class_indices[i]\n",
    "    image = X_test[image_index]\n",
    "\n",
    "    axs[i].imshow(image, cmap='gray')\n",
    "    axs[i].axis('off')\n",
    "    axs[i].set_title(f'predicted: {y_pred[image_index]} \\n true: {y_test[image_index]}')"
   ]
  }
 ],
 "metadata": {
  "kernelspec": {
   "display_name": "venv",
   "language": "python",
   "name": "python3"
  },
  "language_info": {
   "codemirror_mode": {
    "name": "ipython",
    "version": 3
   },
   "file_extension": ".py",
   "mimetype": "text/x-python",
   "name": "python",
   "nbconvert_exporter": "python",
   "pygments_lexer": "ipython3",
   "version": "3.10.6"
  },
  "orig_nbformat": 4
 },
 "nbformat": 4,
 "nbformat_minor": 2
}
